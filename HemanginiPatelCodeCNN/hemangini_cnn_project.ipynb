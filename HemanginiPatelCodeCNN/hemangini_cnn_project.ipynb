{
  "cells": [
    {
      "cell_type": "code",
      "execution_count": 75,
      "metadata": {
        "id": "N3vxufwA1_hV"
      },
      "outputs": [],
      "source": [
        "# Importing the required libraries\n",
        "import os\n",
        "import cv2\n",
        "import glob\n",
        "import zipfile\n",
        "import numpy as np\n",
        "from tqdm import tqdm\n",
        "from urllib import request\n",
        "from google.colab import drive"
      ]
    },
    {
      "cell_type": "code",
      "execution_count": 76,
      "metadata": {
        "id": "9exMzhg69aK8",
        "colab": {
          "base_uri": "https://localhost:8080/"
        },
        "outputId": "883b3968-2802-40f8-ade0-4b18f836c34b"
      },
      "outputs": [
        {
          "output_type": "stream",
          "name": "stdout",
          "text": [
            "Drive already mounted at /content/drive; to attempt to forcibly remount, call drive.mount(\"/content/drive\", force_remount=True).\n"
          ]
        }
      ],
      "source": [
        "#you need to replace this by the location of the dataset on your drive\n",
        "# datasetloc=\"/content/drive/MyDrive/Hemangini Projects/dataset\"\n",
        "#! wget -q https://storage.googleapis.com/drive-bulk-export-anonymous/20220428T122708Z/4133399871716478688/aa76fc5c-9354-4b5f-ae56-aca2048e1129/1/acf3a9e4-29f2-415b-86b6-f7ba375e19ee?authuser -O dataset.zip\n",
        "# drive.mount('/content/drive')\n",
        "# datasetloc=\"/content/drive/MyDrive/Colab Notebooks/dataset\"\n",
        "\n",
        "# ! wget -q https://tinyurl.com/r5ut6tjx -O dataset.zip\n",
        "# ! unzip -oqq dataset\n",
        "# datasetloc=\"./dataset\"\n",
        "\n",
        "\n",
        "#if not os.path.exists(\"./dataset.zip\"):\n",
        "#    response = request.urlretrieve(\"https://drive.google.com/file/d/1z_B2zhcjl0heRbdRGUTQKwC82WqDjBLb/view?usp=sharing\", \"dataset.zip\")\n",
        "#    with zipfile.ZipFile(\"dataset.zip\", 'r') as zip_ref:\n",
        "#        zip_ref.extractall(\".\")\n",
        "#datasetloc=\"./dataset\"\n",
        "\n",
        "#-----------------------------------------------------------------------------------------------\n",
        "# The dataset has been obtained from Kaggle with the dataset called Real and Fake Face Detection\n",
        "# It has been published by the Computational Intelligence and Photography Lab\n",
        "# Department of Computer Science, Yonsei University\n",
        "# https://www.kaggle.com/datasets/ciplab/real-and-fake-face-detection\n",
        "drive.mount('/content/drive')\n",
        "datasetloc = \"/content/drive/My Drive/Colab Notebooks/Artificial Intelligence/Data/dataset\""
      ]
    },
    {
      "cell_type": "code",
      "execution_count": 77,
      "metadata": {
        "id": "j4KDvUGL2lub"
      },
      "outputs": [],
      "source": [
        "# Return a list of path for the images in the folder as an array\n",
        "fakefiles=glob.glob(datasetloc+\"/training_fake/*.jpg\")"
      ]
    },
    {
      "cell_type": "code",
      "execution_count": 78,
      "metadata": {
        "id": "XKnspHDv5sOY",
        "colab": {
          "base_uri": "https://localhost:8080/"
        },
        "outputId": "28e7fe9d-a5b4-4c50-8921-cee79457c03c"
      },
      "outputs": [
        {
          "output_type": "stream",
          "name": "stderr",
          "text": [
            "100%|██████████| 970/970 [00:15<00:00, 60.88it/s]\n"
          ]
        }
      ],
      "source": [
        "#reading the FAKE images and labelling them as 1\n",
        "#tqdm helps to keep track of progress\n",
        "data=[]\n",
        "y=[]\n",
        "for f in tqdm(fakefiles):\n",
        "  # twodimg= np.zeros((128,128))\n",
        "  img=cv2.imread(f)\n",
        "  img = cv2.resize(img  , (128 , 128))\n",
        "  \n",
        "  \n",
        "  data.append(img)\n",
        "  y.append(1)"
      ]
    },
    {
      "cell_type": "code",
      "execution_count": 79,
      "metadata": {
        "id": "zmlst8Xg7jnA"
      },
      "outputs": [],
      "source": [
        "realfiles=glob.glob(datasetloc+\"/training_real/*.jpg\")"
      ]
    },
    {
      "cell_type": "code",
      "execution_count": 80,
      "metadata": {
        "id": "_cxRUtkj7qSl",
        "colab": {
          "base_uri": "https://localhost:8080/"
        },
        "outputId": "772698a6-70b8-4a9c-c2b3-7d002972e041"
      },
      "outputs": [
        {
          "output_type": "stream",
          "name": "stderr",
          "text": [
            "100%|██████████| 1081/1081 [00:18<00:00, 56.99it/s]\n"
          ]
        }
      ],
      "source": [
        "# Reading the REAL images and labelling them as 0\n",
        "# Resize image so we can stay consistent with the uniformity throughout\n",
        "for f in tqdm(realfiles):\n",
        "  # twodimg= np.zeros((128,128))\n",
        "  img=cv2.imread(f)\n",
        "  img = cv2.resize(img  , (128 , 128))\n",
        "  \n",
        "  data.append(img)\n",
        "  y.append(0)\n",
        "  "
      ]
    },
    {
      "cell_type": "code",
      "execution_count": 81,
      "metadata": {
        "id": "uTMu90Zx878k"
      },
      "outputs": [],
      "source": [
        "#convering lists into arrays // Arrays of all pixelated arrays\n",
        "data = np.asarray(data)\n",
        "y = np.asarray(y)"
      ]
    },
    {
      "cell_type": "code",
      "execution_count": 82,
      "metadata": {
        "id": "3zrHSOEo90N4"
      },
      "outputs": [],
      "source": [
        "# We do a random split on the dataset at 80% and 20% with; 80% of the data would be training the model and remaining 20% of the data would be checking the model performance\n",
        "from sklearn.model_selection import train_test_split\n",
        "X_train, X_test, y_train, y_test = train_test_split(data, y, test_size=0.2, random_state=42)"
      ]
    },
    {
      "cell_type": "code",
      "execution_count": 83,
      "metadata": {
        "id": "KHHB-rid2lyA"
      },
      "outputs": [],
      "source": [
        "#importing the libraries required for our cnn model\n",
        "from keras.models import Sequential \n",
        "from keras.layers import Conv2D,MaxPool2D,Flatten,Dense,Dropout\n",
        "from keras.preprocessing.image import ImageDataGenerator\n",
        "from tensorflow.keras.optimizers import Adam\n",
        "from tensorflow.keras.utils import to_categorical\n",
        "from tensorflow.keras.optimizers import RMSprop"
      ]
    },
    {
      "cell_type": "code",
      "execution_count": 84,
      "metadata": {
        "id": "Cw0pDU8tTP-J"
      },
      "outputs": [],
      "source": [
        "# Sketched Model Architecture for FAKE an REAL image detection\n",
        "model = Sequential()\n",
        "\n",
        "model.add(Conv2D(32,(3,3),input_shape = (128,128,3),activation = 'relu',padding='same',))\n",
        "model.add(MaxPool2D(pool_size=(2,2)))\n",
        "model.add(Dropout(0.2))\n",
        "\n",
        "model.add(Conv2D(64, (3, 3), activation='relu', padding='same'))\n",
        "model.add(MaxPool2D((2, 2)))\n",
        "model.add(Dropout(0.2))\n",
        "\n",
        "model.add(Conv2D(128, (3, 3), activation='relu', padding='same'))\n",
        "model.add(MaxPool2D((2, 2)))\n",
        "model.add(Dropout(0.2))\n",
        "\n",
        "model.add(Flatten())\n",
        "\n",
        "model.add(Dense(128, activation='relu'))\n",
        "model.add(Dropout(0.5))\n",
        "model.add(Dense(1, activation='sigmoid'))\n",
        "\n",
        "model.compile(optimizer = 'adam',loss = 'binary_crossentropy',metrics = ['accuracy'])\n",
        "# In the last layer if the value is Greater then 0.5 it is fake image and if the value is less then 0.5 it is real image"
      ]
    },
    {
      "cell_type": "code",
      "execution_count": 85,
      "metadata": {
        "id": "xDGPT9jd8MtQ",
        "colab": {
          "base_uri": "https://localhost:8080/"
        },
        "outputId": "8bd42ccd-0c82-47a4-91b8-1c1f037973cf"
      },
      "outputs": [
        {
          "output_type": "stream",
          "name": "stdout",
          "text": [
            "Epoch 1/10\n",
            "41/41 [==============================] - 53s 1s/step - loss: 50.4948 - accuracy: 0.5159\n",
            "Epoch 2/10\n",
            "41/41 [==============================] - 51s 1s/step - loss: 0.6974 - accuracy: 0.5104\n",
            "Epoch 3/10\n",
            "41/41 [==============================] - 51s 1s/step - loss: 0.6947 - accuracy: 0.5006\n",
            "Epoch 4/10\n",
            "41/41 [==============================] - 53s 1s/step - loss: 0.6969 - accuracy: 0.5207\n",
            "Epoch 5/10\n",
            "41/41 [==============================] - 53s 1s/step - loss: 0.6940 - accuracy: 0.5256\n",
            "Epoch 6/10\n",
            "41/41 [==============================] - 52s 1s/step - loss: 0.6945 - accuracy: 0.5091\n",
            "Epoch 7/10\n",
            "41/41 [==============================] - 52s 1s/step - loss: 0.6909 - accuracy: 0.5244\n",
            "Epoch 8/10\n",
            "41/41 [==============================] - 52s 1s/step - loss: 0.6881 - accuracy: 0.5311\n",
            "Epoch 9/10\n",
            "41/41 [==============================] - 52s 1s/step - loss: 0.6850 - accuracy: 0.5323\n",
            "Epoch 10/10\n",
            "41/41 [==============================] - 52s 1s/step - loss: 0.6853 - accuracy: 0.5415\n"
          ]
        },
        {
          "output_type": "execute_result",
          "data": {
            "text/plain": [
              "<keras.callbacks.History at 0x7f19e2d2b210>"
            ]
          },
          "metadata": {},
          "execution_count": 85
        }
      ],
      "source": [
        "#fitting our model on the dataset, train the model using X train and Y train\n",
        "model.fit(X_train,y_train,epochs=10,batch_size=40)"
      ]
    },
    {
      "cell_type": "code",
      "execution_count": 86,
      "metadata": {
        "id": "i6GuO9-b-2aD"
      },
      "outputs": [],
      "source": [
        "ypredtrain=model.predict(X_train)\n",
        "ypredtest=model.predict(X_test)"
      ]
    },
    {
      "cell_type": "code",
      "execution_count": 87,
      "metadata": {
        "id": "Vq9oJuz8N3SQ"
      },
      "outputs": [],
      "source": [
        "# Using the train model we made predictions\n",
        "yptrain=[]\n",
        "yptest=[]\n",
        "for y in ypredtrain:\n",
        "  if(y>=0.5):\n",
        "    yptrain.append(1)\n",
        "  else:\n",
        "    yptrain.append(0)\n",
        "for y in ypredtest:\n",
        "  if(y>=0.5):\n",
        "    yptest.append(1)\n",
        "  else:\n",
        "    yptest.append(0)\n"
      ]
    },
    {
      "cell_type": "code",
      "execution_count": 88,
      "metadata": {
        "id": "hf0JPKJqSVNG",
        "colab": {
          "base_uri": "https://localhost:8080/"
        },
        "outputId": "d0bc4e24-1376-4a6a-a298-8d6a21a4b9a3"
      },
      "outputs": [
        {
          "output_type": "stream",
          "name": "stdout",
          "text": [
            "the accuracy score for training set is 0.5573170731707318\n",
            "the accuracy score for test set is 0.5328467153284672\n"
          ]
        }
      ],
      "source": [
        "from sklearn.metrics import accuracy_score\n",
        "print(\"the accuracy score for training set is\",accuracy_score(y_train, yptrain))\n",
        "print(\"the accuracy score for test set is\",accuracy_score(y_test, yptest))"
      ]
    }
  ],
  "metadata": {
    "colab": {
      "collapsed_sections": [],
      "name": "hemangini_cnn_project.ipynb",
      "provenance": []
    },
    "kernelspec": {
      "display_name": "Python 3",
      "name": "python3"
    },
    "language_info": {
      "name": "python"
    }
  },
  "nbformat": 4,
  "nbformat_minor": 0
}
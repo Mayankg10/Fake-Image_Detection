{
  "cells": [
    {
      "cell_type": "code",
      "execution_count": 54,
      "metadata": {
        "id": "N3vxufwA1_hV"
      },
      "outputs": [],
      "source": [
        "# Importing the required libraries\n",
        "import os\n",
        "import cv2\n",
        "import glob\n",
        "import zipfile\n",
        "import numpy as np\n",
        "from tqdm import tqdm\n",
        "from urllib import request\n",
        "from google.colab import drive"
      ]
    },
    {
      "cell_type": "code",
      "execution_count": 55,
      "metadata": {
        "id": "9exMzhg69aK8",
        "colab": {
          "base_uri": "https://localhost:8080/"
        },
        "outputId": "322fb367-216c-49c9-8284-ac43f22d06ce"
      },
      "outputs": [
        {
          "output_type": "stream",
          "name": "stdout",
          "text": [
            "Drive already mounted at /content/drive; to attempt to forcibly remount, call drive.mount(\"/content/drive\", force_remount=True).\n"
          ]
        }
      ],
      "source": [
        "#you need to replace this by the location of the dataset on your drive\n",
        "# datasetloc=\"/content/drive/MyDrive/Hemangini Projects/dataset\"\n",
        "#! wget -q https://storage.googleapis.com/drive-bulk-export-anonymous/20220428T122708Z/4133399871716478688/aa76fc5c-9354-4b5f-ae56-aca2048e1129/1/acf3a9e4-29f2-415b-86b6-f7ba375e19ee?authuser -O dataset.zip\n",
        "# drive.mount('/content/drive')\n",
        "# datasetloc=\"/content/drive/MyDrive/Colab Notebooks/dataset\"\n",
        "\n",
        "# ! wget -q https://tinyurl.com/r5ut6tjx -O dataset.zip\n",
        "# ! unzip -oqq dataset\n",
        "# datasetloc=\"./dataset\"\n",
        "\n",
        "\n",
        "#if not os.path.exists(\"./dataset.zip\"):\n",
        "#    response = request.urlretrieve(\"https://drive.google.com/file/d/1z_B2zhcjl0heRbdRGUTQKwC82WqDjBLb/view?usp=sharing\", \"dataset.zip\")\n",
        "#    with zipfile.ZipFile(\"dataset.zip\", 'r') as zip_ref:\n",
        "#        zip_ref.extractall(\".\")\n",
        "#datasetloc=\"./dataset\"\n",
        "\n",
        "drive.mount('/content/drive')\n",
        "datasetloc = \"/content/drive/My Drive/Colab Notebooks/Artificial Intelligence/Data/dataset\"\n",
        "\n"
      ]
    },
    {
      "cell_type": "code",
      "execution_count": 56,
      "metadata": {
        "id": "j4KDvUGL2lub"
      },
      "outputs": [],
      "source": [
        "# Return a list of path for the image in the folder\n",
        "fakefiles=glob.glob(datasetloc+\"/training_fake/*.jpg\")"
      ]
    },
    {
      "cell_type": "code",
      "execution_count": 57,
      "metadata": {
        "id": "XKnspHDv5sOY",
        "colab": {
          "base_uri": "https://localhost:8080/"
        },
        "outputId": "d11fbf0d-656c-4efa-a953-8f8d87d388f7"
      },
      "outputs": [
        {
          "output_type": "stream",
          "name": "stderr",
          "text": [
            "100%|██████████| 970/970 [00:19<00:00, 50.25it/s]\n"
          ]
        }
      ],
      "source": [
        "#reading the fake images and labelling them as 1\n",
        "#tqdm helps to keep track of progress\n",
        "data=[]\n",
        "y=[]\n",
        "for f in tqdm(fakefiles):\n",
        "  # twodimg= np.zeros((128,128))\n",
        "  img=cv2.imread(f)\n",
        "  img = cv2.resize(img  , (128 , 128))\n",
        "  \n",
        "  \n",
        "  data.append(img)\n",
        "  y.append(1)"
      ]
    },
    {
      "cell_type": "code",
      "execution_count": 58,
      "metadata": {
        "id": "zmlst8Xg7jnA"
      },
      "outputs": [],
      "source": [
        "realfiles=glob.glob(datasetloc+\"/training_real/*.jpg\")"
      ]
    },
    {
      "cell_type": "code",
      "execution_count": 59,
      "metadata": {
        "id": "_cxRUtkj7qSl",
        "colab": {
          "base_uri": "https://localhost:8080/"
        },
        "outputId": "b7716cee-6d03-4e32-d8ef-3e78eed703ff"
      },
      "outputs": [
        {
          "output_type": "stream",
          "name": "stderr",
          "text": [
            "100%|██████████| 1081/1081 [00:19<00:00, 55.95it/s]\n"
          ]
        }
      ],
      "source": [
        "#reading the real images and labelling them as 0\n",
        "# resize image so we can stay consistent with the uniformity throughout\n",
        "for f in tqdm(realfiles):\n",
        "  # twodimg= np.zeros((128,128))\n",
        "  img=cv2.imread(f)\n",
        "  img = cv2.resize(img  , (128 , 128))\n",
        "  \n",
        "  data.append(img)\n",
        "  y.append(0)\n",
        "  "
      ]
    },
    {
      "cell_type": "code",
      "execution_count": 60,
      "metadata": {
        "id": "uTMu90Zx878k"
      },
      "outputs": [],
      "source": [
        "#convering lists into arrays // Arrays if all arrays\n",
        "data = np.asarray(data)\n",
        "y = np.asarray(y)"
      ]
    },
    {
      "cell_type": "code",
      "execution_count": 61,
      "metadata": {
        "id": "3zrHSOEo90N4"
      },
      "outputs": [],
      "source": [
        "#then we do the test train split\n",
        "from sklearn.model_selection import train_test_split\n",
        "X_train, X_test, y_train, y_test = train_test_split(data, y, test_size=0.2, random_state=42)"
      ]
    },
    {
      "cell_type": "code",
      "execution_count": 62,
      "metadata": {
        "id": "KHHB-rid2lyA"
      },
      "outputs": [],
      "source": [
        "#importing the libraries required for our cnn model\n",
        "from keras.models import Sequential \n",
        "from keras.layers import Conv2D,MaxPool2D,Flatten,Dense,Dropout\n",
        "from keras.preprocessing.image import ImageDataGenerator\n",
        "from tensorflow.keras.optimizers import Adam\n",
        "from tensorflow.keras.utils import to_categorical\n",
        "from tensorflow.keras.optimizers import RMSprop"
      ]
    },
    {
      "cell_type": "code",
      "execution_count": 63,
      "metadata": {
        "id": "Cw0pDU8tTP-J"
      },
      "outputs": [],
      "source": [
        "model = Sequential()\n",
        "\n",
        "model.add(Conv2D(32,(3,3),input_shape = (128,128,3),activation = 'relu',padding='same',))\n",
        "model.add(MaxPool2D(pool_size=(2,2)))\n",
        "model.add(Dropout(0.2))\n",
        "\n",
        "model.add(Conv2D(64, (3, 3), activation='relu', padding='same'))\n",
        "model.add(MaxPool2D((2, 2)))\n",
        "model.add(Dropout(0.2))\n",
        "\n",
        "model.add(Conv2D(128, (3, 3), activation='relu', padding='same'))\n",
        "model.add(MaxPool2D((2, 2)))\n",
        "model.add(Dropout(0.2))\n",
        "\n",
        "model.add(Flatten())\n",
        "\n",
        "model.add(Dense(128, activation='relu'))\n",
        "model.add(Dropout(0.5))\n",
        "model.add(Dense(1, activation='sigmoid'))\n",
        "\n",
        "model.compile(optimizer = 'adam',loss = 'binary_crossentropy',metrics = ['accuracy'])"
      ]
    },
    {
      "cell_type": "code",
      "execution_count": 64,
      "metadata": {
        "id": "xDGPT9jd8MtQ",
        "colab": {
          "base_uri": "https://localhost:8080/"
        },
        "outputId": "b0e1ef04-3a75-4095-c0bb-0401543f779c"
      },
      "outputs": [
        {
          "output_type": "stream",
          "name": "stdout",
          "text": [
            "Epoch 1/10\n",
            "41/41 [==============================] - 62s 1s/step - loss: 45.5067 - accuracy: 0.4957\n",
            "Epoch 2/10\n",
            "41/41 [==============================] - 54s 1s/step - loss: 0.6923 - accuracy: 0.5073\n",
            "Epoch 3/10\n",
            "41/41 [==============================] - 57s 1s/step - loss: 0.6928 - accuracy: 0.5341\n",
            "Epoch 4/10\n",
            "41/41 [==============================] - 53s 1s/step - loss: 0.6908 - accuracy: 0.5268\n",
            "Epoch 5/10\n",
            "41/41 [==============================] - 56s 1s/step - loss: 0.6907 - accuracy: 0.5329\n",
            "Epoch 6/10\n",
            "41/41 [==============================] - 54s 1s/step - loss: 0.6854 - accuracy: 0.5506\n",
            "Epoch 7/10\n",
            "41/41 [==============================] - 55s 1s/step - loss: 0.6781 - accuracy: 0.5457\n",
            "Epoch 8/10\n",
            "41/41 [==============================] - 55s 1s/step - loss: 0.6734 - accuracy: 0.5524\n",
            "Epoch 9/10\n",
            "41/41 [==============================] - 53s 1s/step - loss: 0.6813 - accuracy: 0.5561\n",
            "Epoch 10/10\n",
            "41/41 [==============================] - 52s 1s/step - loss: 0.6629 - accuracy: 0.5683\n"
          ]
        },
        {
          "output_type": "execute_result",
          "data": {
            "text/plain": [
              "<keras.callbacks.History at 0x7f19e2d98c10>"
            ]
          },
          "metadata": {},
          "execution_count": 64
        }
      ],
      "source": [
        "#fitting our model on the dataset\n",
        "model.fit(X_train,y_train,epochs=10,batch_size=40)"
      ]
    },
    {
      "cell_type": "code",
      "execution_count": 65,
      "metadata": {
        "id": "i6GuO9-b-2aD"
      },
      "outputs": [],
      "source": [
        "ypredtrain=model.predict(X_train)\n",
        "ypredtest=model.predict(X_test)"
      ]
    },
    {
      "cell_type": "code",
      "execution_count": 66,
      "metadata": {
        "id": "Vq9oJuz8N3SQ"
      },
      "outputs": [],
      "source": [
        "yptrain=[]\n",
        "yptest=[]\n",
        "for y in ypredtrain:\n",
        "  if(y>=0.5):\n",
        "    yptrain.append(1)\n",
        "  else:\n",
        "    yptrain.append(0)\n",
        "for y in ypredtest:\n",
        "  if(y>=0.5):\n",
        "    yptest.append(1)\n",
        "  else:\n",
        "    yptest.append(0)\n"
      ]
    },
    {
      "cell_type": "code",
      "execution_count": 67,
      "metadata": {
        "id": "hf0JPKJqSVNG",
        "colab": {
          "base_uri": "https://localhost:8080/"
        },
        "outputId": "447ad1d8-8646-4467-ce6e-f582c7ef776f"
      },
      "outputs": [
        {
          "output_type": "stream",
          "name": "stdout",
          "text": [
            "the accuracy score for training set is 0.5841463414634146\n",
            "the accuracy score for test set is 0.5474452554744526\n"
          ]
        }
      ],
      "source": [
        "from sklearn.metrics import accuracy_score\n",
        "print(\"the accuracy score for training set is\",accuracy_score(y_train, yptrain))\n",
        "print(\"the accuracy score for test set is\",accuracy_score(y_test, yptest))"
      ]
    }
  ],
  "metadata": {
    "colab": {
      "collapsed_sections": [],
      "name": "hemangini_cnn_project.ipynb",
      "provenance": []
    },
    "kernelspec": {
      "display_name": "Python 3",
      "name": "python3"
    },
    "language_info": {
      "name": "python"
    }
  },
  "nbformat": 4,
  "nbformat_minor": 0
}
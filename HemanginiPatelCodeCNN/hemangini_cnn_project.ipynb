{
  "cells": [
    {
      "cell_type": "code",
      "execution_count": 1,
      "metadata": {
        "id": "N3vxufwA1_hV"
      },
      "outputs": [
        {
          "ename": "ModuleNotFoundError",
          "evalue": "No module named 'google.colab'",
          "output_type": "error",
          "traceback": [
            "\u001b[1;31m---------------------------------------------------------------------------\u001b[0m",
            "\u001b[1;31mModuleNotFoundError\u001b[0m                       Traceback (most recent call last)",
            "\u001b[1;32mc:\\Users\\Hemi\\Desktop\\cnn\\hemangini_cnn_project.ipynb Cell 1'\u001b[0m in \u001b[0;36m<cell line: 9>\u001b[1;34m()\u001b[0m\n\u001b[0;32m      <a href='vscode-notebook-cell:/c%3A/Users/Hemi/Desktop/cnn/hemangini_cnn_project.ipynb#ch0000000?line=6'>7</a>\u001b[0m \u001b[39mfrom\u001b[39;00m \u001b[39mtqdm\u001b[39;00m \u001b[39mimport\u001b[39;00m tqdm\n\u001b[0;32m      <a href='vscode-notebook-cell:/c%3A/Users/Hemi/Desktop/cnn/hemangini_cnn_project.ipynb#ch0000000?line=7'>8</a>\u001b[0m \u001b[39mfrom\u001b[39;00m \u001b[39murllib\u001b[39;00m \u001b[39mimport\u001b[39;00m request\n\u001b[1;32m----> <a href='vscode-notebook-cell:/c%3A/Users/Hemi/Desktop/cnn/hemangini_cnn_project.ipynb#ch0000000?line=8'>9</a>\u001b[0m \u001b[39mfrom\u001b[39;00m \u001b[39mgoogle\u001b[39;00m\u001b[39m.\u001b[39;00m\u001b[39mcolab\u001b[39;00m \u001b[39mimport\u001b[39;00m drive\n",
            "\u001b[1;31mModuleNotFoundError\u001b[0m: No module named 'google.colab'"
          ]
        }
      ],
      "source": [
        "#importing the required libraries\n",
        "import os\n",
        "import cv2\n",
        "import glob\n",
        "import zipfile\n",
        "import numpy as np\n",
        "from tqdm import tqdm\n",
        "from urllib import request"
      ]
    },
    {
      "cell_type": "code",
      "execution_count": null,
      "metadata": {
        "id": "9exMzhg69aK8"
      },
      "outputs": [],
      "source": [
        "#you need to replace this by the location of the dataset on your drive\n",
        "# datasetloc=\"/content/drive/MyDrive/Hemangini Projects/dataset\"\n",
        "#! wget -q https://storage.googleapis.com/drive-bulk-export-anonymous/20220428T122708Z/4133399871716478688/aa76fc5c-9354-4b5f-ae56-aca2048e1129/1/acf3a9e4-29f2-415b-86b6-f7ba375e19ee?authuser -O dataset.zip\n",
        "# drive.mount('/content/drive')\n",
        "# datasetloc=\"/content/drive/MyDrive/Colab Notebooks/dataset\"\n",
        "\n",
        "# ! wget -q https://tinyurl.com/r5ut6tjx -O dataset.zip\n",
        "# ! unzip -oqq dataset\n",
        "# datasetloc=\"./dataset\"\n",
        "\n",
        "if not os.path.exists(\"./dataset.zip\"):\n",
        "    response = request.urlretrieve(\"https://tinyurl.com/5acvv2en\", \"dataset.zip\")\n",
        "    with zipfile.ZipFile(\"dataset.zip\", 'r') as zip_ref:\n",
        "        zip_ref.extractall(\".\")\n",
        "    datasetloc=\"./dataset\""
      ]
    },
    {
      "cell_type": "code",
      "execution_count": null,
      "metadata": {
        "id": "j4KDvUGL2lub"
      },
      "outputs": [],
      "source": [
        "fakefiles=glob.glob(datasetloc+\"/training_fake/*.jpg\")"
      ]
    },
    {
      "cell_type": "code",
      "execution_count": null,
      "metadata": {
        "colab": {
          "base_uri": "https://localhost:8080/"
        },
        "id": "XKnspHDv5sOY",
        "outputId": "e8a27a90-de88-42c6-8308-518ef16d6808"
      },
      "outputs": [
        {
          "name": "stderr",
          "output_type": "stream",
          "text": [
            "100%|██████████| 960/960 [00:12<00:00, 75.77it/s]\n"
          ]
        }
      ],
      "source": [
        "#reading the fake images and labelling them as 1\n",
        "#tqdm helps to keep track of progress\n",
        "data=[]\n",
        "y=[]\n",
        "for f in tqdm(fakefiles):\n",
        "  twodimg= np.zeros((128,128))\n",
        "  img=cv2.imread(f)\n",
        "  img = cv2.resize(img  , (128 , 128))\n",
        "  \n",
        "  \n",
        "  data.append(img)\n",
        "  y.append(1)"
      ]
    },
    {
      "cell_type": "code",
      "execution_count": null,
      "metadata": {
        "id": "zmlst8Xg7jnA"
      },
      "outputs": [],
      "source": [
        "realfiles=glob.glob(datasetloc+\"/training_real/*.jpg\")"
      ]
    },
    {
      "cell_type": "code",
      "execution_count": null,
      "metadata": {
        "colab": {
          "base_uri": "https://localhost:8080/"
        },
        "id": "_cxRUtkj7qSl",
        "outputId": "7709d6d9-3bee-418e-bb3c-d95c8d50d51b"
      },
      "outputs": [
        {
          "name": "stderr",
          "output_type": "stream",
          "text": [
            "100%|██████████| 1081/1081 [00:14<00:00, 74.04it/s]\n"
          ]
        }
      ],
      "source": [
        "#reading the real images and labelling them as 0\n",
        "for f in tqdm(realfiles):\n",
        "  twodimg= np.zeros((128,128))\n",
        "  img=cv2.imread(f)\n",
        "  img = cv2.resize(img  , (128 , 128))\n",
        "  \n",
        "  data.append(img)\n",
        "  y.append(0)\n",
        "  "
      ]
    },
    {
      "cell_type": "code",
      "execution_count": null,
      "metadata": {
        "id": "uTMu90Zx878k"
      },
      "outputs": [],
      "source": [
        "#convering lists into arrays\n",
        "data = np.asarray(data)\n",
        "y = np.asarray(y)"
      ]
    },
    {
      "cell_type": "code",
      "execution_count": null,
      "metadata": {
        "id": "3zrHSOEo90N4"
      },
      "outputs": [],
      "source": [
        "#then we do the test train split\n",
        "from sklearn.model_selection import train_test_split\n",
        "X_train, X_test, y_train, y_test = train_test_split(data, y, test_size=0.2, random_state=42)"
      ]
    },
    {
      "cell_type": "code",
      "execution_count": null,
      "metadata": {
        "id": "KHHB-rid2lyA"
      },
      "outputs": [],
      "source": [
        "#importing the libraries required for our cnn model\n",
        "from keras.models import Sequential \n",
        "from keras.layers import Conv2D,MaxPool2D,Flatten,Dense,Dropout\n",
        "from keras.preprocessing.image import ImageDataGenerator\n",
        "from tensorflow.keras.optimizers import Adam\n",
        "from tensorflow.keras.utils import to_categorical\n",
        "from tensorflow.keras.optimizers import RMSprop"
      ]
    },
    {
      "cell_type": "code",
      "execution_count": null,
      "metadata": {
        "id": "Cw0pDU8tTP-J"
      },
      "outputs": [],
      "source": [
        "model = Sequential()\n",
        "\n",
        "model.add(Conv2D(32,(3,3),input_shape = (128,128,3),activation = 'relu',padding='same',))\n",
        "model.add(MaxPool2D(pool_size=(2,2)))\n",
        "model.add(Dropout(0.2))\n",
        "\n",
        "model.add(Conv2D(64, (3, 3), activation='relu', padding='same'))\n",
        "model.add(MaxPool2D((2, 2)))\n",
        "model.add(Dropout(0.2))\n",
        "\n",
        "model.add(Conv2D(128, (3, 3), activation='relu', padding='same'))\n",
        "model.add(MaxPool2D((2, 2)))\n",
        "model.add(Dropout(0.2))\n",
        "\n",
        "model.add(Flatten())\n",
        "\n",
        "model.add(Dense(128, activation='relu'))\n",
        "model.add(Dropout(0.5))\n",
        "model.add(Dense(1, activation='sigmoid'))\n",
        "\n",
        "model.compile(optimizer = 'adam',loss = 'binary_crossentropy',metrics = ['accuracy'])"
      ]
    },
    {
      "cell_type": "code",
      "execution_count": null,
      "metadata": {
        "colab": {
          "base_uri": "https://localhost:8080/"
        },
        "id": "xDGPT9jd8MtQ",
        "outputId": "73a19e43-04e8-4b52-bd37-7898f878cfac"
      },
      "outputs": [
        {
          "name": "stdout",
          "output_type": "stream",
          "text": [
            "Epoch 1/10\n",
            "41/41 [==============================] - 57s 1s/step - loss: 37.7185 - accuracy: 0.5147\n",
            "Epoch 2/10\n",
            "41/41 [==============================] - 56s 1s/step - loss: 0.7062 - accuracy: 0.5055\n",
            "Epoch 3/10\n",
            "41/41 [==============================] - 56s 1s/step - loss: 0.6927 - accuracy: 0.5355\n",
            "Epoch 4/10\n",
            "41/41 [==============================] - 56s 1s/step - loss: 0.6902 - accuracy: 0.5288\n",
            "Epoch 5/10\n",
            "41/41 [==============================] - 55s 1s/step - loss: 0.6939 - accuracy: 0.5208\n",
            "Epoch 6/10\n",
            "41/41 [==============================] - 55s 1s/step - loss: 0.6923 - accuracy: 0.5374\n",
            "Epoch 7/10\n",
            "41/41 [==============================] - 55s 1s/step - loss: 0.6824 - accuracy: 0.5435\n",
            "Epoch 8/10\n",
            "41/41 [==============================] - 56s 1s/step - loss: 0.6839 - accuracy: 0.5545\n",
            "Epoch 9/10\n",
            "41/41 [==============================] - 59s 1s/step - loss: 0.6848 - accuracy: 0.5527\n",
            "Epoch 10/10\n",
            "41/41 [==============================] - 56s 1s/step - loss: 0.6759 - accuracy: 0.5570\n"
          ]
        },
        {
          "data": {
            "text/plain": [
              "<keras.callbacks.History at 0x7f615e8e4c10>"
            ]
          },
          "execution_count": 71,
          "metadata": {},
          "output_type": "execute_result"
        }
      ],
      "source": [
        "#fitting our model on the dataset\n",
        "model.fit(X_train,y_train,epochs=10,batch_size=40)"
      ]
    },
    {
      "cell_type": "code",
      "execution_count": null,
      "metadata": {
        "id": "i6GuO9-b-2aD"
      },
      "outputs": [],
      "source": [
        "ypredtrain=model.predict(X_train)\n",
        "ypredtest=model.predict(X_test)"
      ]
    },
    {
      "cell_type": "code",
      "execution_count": null,
      "metadata": {
        "id": "Vq9oJuz8N3SQ"
      },
      "outputs": [],
      "source": [
        "yptrain=[]\n",
        "yptest=[]\n",
        "for y in ypredtrain:\n",
        "  if(y>=0.5):\n",
        "    yptrain.append(1)\n",
        "  else:\n",
        "    yptrain.append(0)\n",
        "for y in ypredtest:\n",
        "  if(y>=0.5):\n",
        "    yptest.append(1)\n",
        "  else:\n",
        "    yptest.append(0)\n"
      ]
    },
    {
      "cell_type": "code",
      "execution_count": null,
      "metadata": {
        "colab": {
          "base_uri": "https://localhost:8080/"
        },
        "id": "hf0JPKJqSVNG",
        "outputId": "d040f3cb-63e0-45c1-e14e-bcc76fe30aff"
      },
      "outputs": [
        {
          "name": "stdout",
          "output_type": "stream",
          "text": [
            "the accuracy score for training set is 0.5594362745098039\n",
            "the accuracy score for test set is 0.5232273838630807\n"
          ]
        }
      ],
      "source": [
        "from sklearn.metrics import accuracy_score\n",
        "print(\"the accuracy score for training set is\",accuracy_score(y_train, yptrain))\n",
        "print(\"the accuracy score for test set is\",accuracy_score(y_test, yptest))"
      ]
    }
  ],
  "metadata": {
    "colab": {
      "collapsed_sections": [],
      "name": "hemanginiprojects.ipynb",
      "provenance": []
    },
    "kernelspec": {
      "display_name": "Python 3",
      "name": "python3"
    },
    "language_info": {
      "codemirror_mode": {
        "name": "ipython",
        "version": 3
      },
      "file_extension": ".py",
      "mimetype": "text/x-python",
      "name": "python",
      "nbconvert_exporter": "python",
      "pygments_lexer": "ipython3",
      "version": "3.9.7"
    }
  },
  "nbformat": 4,
  "nbformat_minor": 0
}

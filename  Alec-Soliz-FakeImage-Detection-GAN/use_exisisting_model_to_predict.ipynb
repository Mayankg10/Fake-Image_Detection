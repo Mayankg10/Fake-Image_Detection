{
  "nbformat": 4,
  "nbformat_minor": 0,
  "metadata": {
    "colab": {
      "name": "use_exisisting_model_to_predict.ipynb",
      "provenance": [],
      "authorship_tag": "ABX9TyO+ZklIJNytDpL/ivyCzLBE",
      "include_colab_link": true
    },
    "kernelspec": {
      "name": "python3",
      "display_name": "Python 3"
    },
    "language_info": {
      "name": "python"
    }
  },
  "cells": [
    {
      "cell_type": "markdown",
      "metadata": {
        "id": "view-in-github",
        "colab_type": "text"
      },
      "source": [
        "<a href=\"https://colab.research.google.com/github/Mayankg10/Fake-Image_Detection/blob/main/%20Alec-Soliz-FakeImage-Detection-GAN/use_exisisting_model_to_predict.ipynb\" target=\"_parent\"><img src=\"https://colab.research.google.com/assets/colab-badge.svg\" alt=\"Open In Colab\"/></a>"
      ]
    },
    {
      "cell_type": "code",
      "source": [
        "from google.colab import drive\n",
        "drive.mount('/content/drive')"
      ],
      "metadata": {
        "colab": {
          "base_uri": "https://localhost:8080/"
        },
        "id": "HuYf3lRO42v1",
        "outputId": "12563ed4-2704-4402-8fed-ccb912fb75aa"
      },
      "execution_count": 1,
      "outputs": [
        {
          "output_type": "stream",
          "name": "stdout",
          "text": [
            "Mounted at /content/drive\n"
          ]
        }
      ]
    },
    {
      "cell_type": "code",
      "source": [
        "# single image: example of generating an image for a specific point in the latent space\n",
        "from keras.models import load_model\n",
        "from numpy import asarray\n",
        "from matplotlib import pyplot\n",
        "from numpy.random import randn"
      ],
      "metadata": {
        "id": "ucsn62sT4K-S"
      },
      "execution_count": 2,
      "outputs": []
    },
    {
      "cell_type": "code",
      "execution_count": 3,
      "metadata": {
        "colab": {
          "base_uri": "https://localhost:8080/",
          "height": 283
        },
        "id": "MtQnnBCK4BW2",
        "outputId": "7881b0f0-a662-4413-bf5a-64e06516ce6e"
      },
      "outputs": [
        {
          "output_type": "stream",
          "name": "stdout",
          "text": [
            "WARNING:tensorflow:Error in loading the saved optimizer state. As a result, your model is starting with a freshly initialized optimizer.\n"
          ]
        },
        {
          "output_type": "display_data",
          "data": {
            "text/plain": [
              "<Figure size 432x288 with 1 Axes>"
            ],
            "image/png": "[encoded data removed]"
          },
          "metadata": {
            "needs_background": "light"
          }
        }
      ],
      "source": [
        "# loading the existing model\n",
        "basePath = \"/content/drive/My Drive/Colab Notebooks/Artificial Intelligence/fakeImage/\"\n",
        "model = load_model(basePath + 'generator_model.h5')\n",
        "\n",
        "# creating random images each time...\n",
        "vector = randn(100) #Vector of random numbers (creates a column, need to reshape)\n",
        "vector = vector.reshape(1, 100)\n",
        "\n",
        "# generatint the image\n",
        "X = model.predict(vector)\n",
        "\n",
        "# plot the result\n",
        "pyplot.imshow(X[0, :, :, 0], cmap='gray_r')\n",
        "pyplot.show()\n",
        "\n"
      ]
    }
  ]
}